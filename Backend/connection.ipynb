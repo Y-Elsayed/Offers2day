{
 "cells": [
  {
   "cell_type": "code",
   "execution_count": 11,
   "metadata": {},
   "outputs": [],
   "source": [
    "from mysql.connector import connect, Error\n",
    "from flask import Flask, request, jsonify\n",
    "from werkzeug.security import check_password_hash"
   ]
  },
  {
   "cell_type": "code",
   "execution_count": 12,
   "metadata": {},
   "outputs": [],
   "source": [
    "#Connection\n",
    "def get_db_connection():\n",
    "    try:\n",
    "        connection = connect(\n",
    "            host=\"localhost\",\n",
    "            user=\"root\",\n",
    "            password=\"password\",\n",
    "            database=\"Offers2Day\"\n",
    "        )\n",
    "        return connection\n",
    "    except Error as e:\n",
    "        print(f\"Error: {e}\")\n",
    "        return None\n"
   ]
  },
  {
   "cell_type": "code",
   "execution_count": 13,
   "metadata": {},
   "outputs": [
    {
     "name": "stdout",
     "output_type": "stream",
     "text": [
      "Error: 1045 (28000): Access denied for user 'root'@'localhost' (using password: YES)\n"
     ]
    }
   ],
   "source": [
    "connection = get_db_connection()"
   ]
  },
  {
   "cell_type": "code",
   "execution_count": 14,
   "metadata": {},
   "outputs": [],
   "source": [
    "app = Flask(__name__) #Flask app"
   ]
  },
  {
   "cell_type": "code",
   "execution_count": 15,
   "metadata": {},
   "outputs": [],
   "source": [
    "#Test inputs\n",
    "\n",
    "email = \"yassin1234@gmail.com\"\n",
    "password = \"Yassin123\""
   ]
  },
  {
   "cell_type": "code",
   "execution_count": 16,
   "metadata": {},
   "outputs": [],
   "source": [
    "@app.route('/test', methods=['GET'])\n",
    "def test():\n",
    "    return jsonify('hello')"
   ]
  },
  {
   "cell_type": "code",
   "execution_count": 17,
   "metadata": {},
   "outputs": [],
   "source": [
    "@app.route('/login', methods=['POST'])#login route\n",
    "def login():\n",
    "    #User input from the http request\n",
    "    data = request.get_json() #received the json object from flutter\n",
    "    email = data.get('email') #user email or username\n",
    "    password = data.get('password') #user password\n",
    "    customer_business = \"Customer\" if data.get(\"isCustomer\") == \"True\" else \"Business\" #This will determine whether the user is a customer or a business\n",
    "\n",
    "    connection = get_db_connection()\n",
    "\n",
    "    if connection:\n",
    "        cursor = connection.cursor(dictionary=True)#data will get returned as a dict not a tuple\n",
    "\n",
    "        #our query\n",
    "        #customer\n",
    "        if customer_business == \"Customer\":\n",
    "            query = f\"SELECT * FROM Customer C, CustomerPasswords CP WHERE C.email = {email} OR C.username = {email} AND C.userID = CP.userID\" \n",
    "        #business\n",
    "        else:\n",
    "            query = f\"SELECT * FROM Businesses B, BusinessPasswords BP WHERE B.businessEmail = {email} OR B.businessName = {email} AND B.businessID = BP.businessID\" \n",
    "        \n",
    "        #Execute the query\n",
    "        cursor.execute(query)\n",
    "        #Get the first result\n",
    "        user = cursor.fetchone()#dict\n",
    "\n",
    "        #check_password_hash(user['password'], password):#check_password_hash is a function that hashes the user password before checking the db\n",
    "        if user and user['password'] == password:\n",
    "            cursor.close()\n",
    "            connection.close()\n",
    "            return jsonify({'message': 'Login successful'}), 200\n",
    "        else:\n",
    "            cursor.close()\n",
    "            connection.close()\n",
    "            return jsonify({'message': 'Login failed'}), 401"
   ]
  },
  {
   "cell_type": "code",
   "execution_count": 18,
   "metadata": {},
   "outputs": [],
   "source": [
    "def signup():\n",
    "    '''signup\n",
    "\n",
    "    The function that gets the inputed info from the user and\n",
    "    places it into the database.\n",
    "    '''\n",
    "\n",
    "    data = request.get_json() #received the json object from flutter\n",
    "\n",
    "    connection = get_db_connection()    \n",
    "\n",
    "    if connection:\n",
    "        pass\n",
    "    else:\n",
    "        pass"
   ]
  }
 ],
 "metadata": {
  "kernelspec": {
   "display_name": "Python 3",
   "language": "python",
   "name": "python3"
  },
  "language_info": {
   "codemirror_mode": {
    "name": "ipython",
    "version": 3
   },
   "file_extension": ".py",
   "mimetype": "text/x-python",
   "name": "python",
   "nbconvert_exporter": "python",
   "pygments_lexer": "ipython3",
   "version": "3.10.6"
  }
 },
 "nbformat": 4,
 "nbformat_minor": 2
}
